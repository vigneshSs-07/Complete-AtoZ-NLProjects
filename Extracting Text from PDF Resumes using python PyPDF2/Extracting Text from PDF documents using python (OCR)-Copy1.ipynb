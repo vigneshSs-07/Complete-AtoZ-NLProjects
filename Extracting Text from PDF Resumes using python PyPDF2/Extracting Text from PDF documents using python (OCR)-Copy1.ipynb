{
 "cells": [
  {
   "cell_type": "raw",
   "metadata": {},
   "source": [
    "https://www.youtube.com/watch?v=bcmEMcEzV9M\n",
    "https://www.youtube.com/results?search_query=Extracting+Text+from+PDF+documents+using+python\n",
    "https://www.youtube.com/watch?v=eTz3VZmNPSE\n",
    "https://github.com/danshorstein/pythonic-accountant/tree/master/015%20Extract%20line%20items%20from%20PDF%20AP%20listing\n",
    "\n",
    "https://www.youtube.com/watch?v=59iAb5d9YPk\n",
    "https://pythonhosted.org/PyPDF2/"
   ]
  },
  {
   "cell_type": "code",
   "execution_count": 1,
   "metadata": {},
   "outputs": [],
   "source": [
    "import PyPDF2\n",
    "#from IPython.display import display, Image\n",
    "#import easyocr"
   ]
  },
  {
   "cell_type": "code",
   "execution_count": 2,
   "metadata": {},
   "outputs": [],
   "source": [
    "import numpy as np\n",
    "import requests\n",
    "import json"
   ]
  },
  {
   "cell_type": "code",
   "execution_count": 3,
   "metadata": {},
   "outputs": [],
   "source": [
    "import os\n",
    "os.chdir(r'C:\\Users\\VigneshSS\\Desktop\\FullThrottle Labs\\targetdir\\censored')"
   ]
  },
  {
   "cell_type": "code",
   "execution_count": 4,
   "metadata": {},
   "outputs": [],
   "source": [
    "def pdffilereader(pdfFile):\n",
    "    pdfReader = PyPDF2.PdfFileReader(pdfFile)\n",
    "    pageObject = pdfReader.getPage(0)\n",
    "    print(\"Total pages: {}\".format(pdfReader.numPages))\n",
    "    pagetext = pageObject.extractText()\n",
    "    \n",
    "    return pageObject,pagetext"
   ]
  },
  {
   "cell_type": "code",
   "execution_count": 5,
   "metadata": {},
   "outputs": [
    {
     "name": "stdout",
     "output_type": "stream",
     "text": [
      "Total pages: 1\n"
     ]
    },
    {
     "data": {
      "text/plain": [
       "'SHRITESH JAMULKAR \\nPassionate Developer \\n!\"Work Experience\\n                               ! !Application Developer\\n                   2018-Present\\n TechFlexa\\n                                                        Raipur \\n!Pocket-source Cross-platform Mobile Application.       \\n\" !Made various UI-Improvements and fixed various bugs. \\n!Technical Head\\n                                   2018-Present \\nTechnocracy - the Technical Committee of NIT Raipur                                   \\n !Aavartan Android Application                                 \\n\" !Redesigned UI of previous years Application and \\nvarious bugs fixes. \\n!Kleos Android Application                                      \\n\" !Made the backend and App from scratch. \\n!Mentor                                         \\n2018-Present \\nAtal Tinkering Labs                                            \\nRaipur \\n!Teaching school students internet of things and mentoring \\ntheir projects which won many state level competitions\\n. !Open-Source Contributor  \\n               2018-Present\\n Open Food Facts Organisation      \\n!Open-Food-Facts Android Application                     \\n\"  !Solved various issues of the project. \\nSysters Organisation \\n!Mentorship Android Application                               \\n\" !Solved various issues of the project. \\nScoreLab Organisation \\n!Massa - Mobile Accessible Social Sharing Agent         \\n\" !Solved various issues of the project.\\n !Lead Developer\\n                                     2018-2019\\n Kitisu.com                        \\n                         Raipur \\n!Cross-Platform Mobile Application of Kitisu.com \\n!Made Cross-Platform Mobile app in React-Native.\\n                    Achievements\\n                                   # !Winner: Application Development contest held \\nIIIT Raipur                                             \\n!Made a fully functional application for Chattisgarh \\nTourism Board.                                                       \\n\" !Winner: Codeutsava 3.0 Hackathon in \\nBlockchain track \\n!Made a dApp to stop illegal organ trafficking.            \\n\" !3rd Winner: Hack-a-tron, BIT Durg \\n!Made a fully functional University Education Vending \\nSystem.\\n                                                                 \" !Finals: Smart India Hackathon 2019 \\n!Made a tool for detecting Top 10 OWASP vulnerability in \\na website.\\n                                    !5th Position: DotSlash Hackathon, SVNIT \\n!Made a dApp for SOS service.\\n                                 \" Education\\n                                         $ !National Institute of Technology Raipur         \\n%    B.Tech Computer Science and Engineering \\n2017-Present (Expected 2021) \\n!Sri Sankara Vidyalaya                                 \\n& Higher Secondary Education, CBSE     \\n04/2015-04/2017\\nshritesh.sj@gmail.com\\n \\' +91-877049364 \\n(        \\nRaipur, India \\n) shri99.me\\n *  @Shritesh99 \\n! @Shritesh99 \\n\" Personal Projects\\n                     + !Buypur                                  \\n04/2019 \\n!Complete redesigning of current Buypur \\napplication\\n !Smart Elections                      \\n01/2019\\n !Elections Based on Decentralised Ethereum \\nBlockchain Network.                                 \\n\" !iSpecs: Gives you vision          \\n07/2018 \\n!iSpecs is powerful specs for blind powered by \\nandroid things and Tensorflow.                  \\n\" Key Programming Languages\\n     , Java          Kotlin           Swift     \\nPython        R                 SQL \\nJavascript   Typescript    HTML/CSS/SCSS \\nSolidity       PHP              Shell        \\nC/C++        C#               Ruby \\n Key Skills\\n                              - Ethereum Blockchain (Solidity)   Firebase \\nMachine/Deep learning            IOT-Core \\nComputer-Vision/NLP                Unity3D \\nDocker                                    AWS \\nGoogle-Cloud                         Git \\nHardware-Prototyping              Sketch\\n Key Frameworks\\n                        . !Android \\n!React/React-Native (Redux) \\n!Django/Flask \\n!Nodejs \\n!Flutter \\n!TensorFlow \\n!Kreas/Pytorch\\n General Skills\\n                          ! !Quick-Learner \\n!Creative \\n!Innovative \\n!Team-Player \\n!Hard-Working \\n!Deadline-Driven\\n Languages \\n                            / !English     \\n00001 !Hindi        00000       Interests\\n                                  # !UI/UX Wireframes Designing\\n !Vector illustration Designing \\n!Graphic Designing \\n!Video Editing \\n!Gaming'"
      ]
     },
     "execution_count": 5,
     "metadata": {},
     "output_type": "execute_result"
    }
   ],
   "source": [
    "pdffilereader('resume_17.pdf')[1]"
   ]
  },
  {
   "cell_type": "markdown",
   "metadata": {},
   "source": [
    "# https://www.youtube.com/watch?v=tMLEPtwFklQ\n",
    "\n",
    "https://soumilshah1995.blogspot.com/2020/05/name-entity-recognition-on-pdf-resume.html"
   ]
  },
  {
   "cell_type": "code",
   "execution_count": 6,
   "metadata": {},
   "outputs": [],
   "source": [
    "try:\n",
    "    import spacy\n",
    "    import json\n",
    "except Exception as e:\n",
    "    print(e)\n",
    "    \n",
    "\n",
    "class EntityGenerator(object):\n",
    "    \n",
    "    _slots__ = ['text']\n",
    "    \n",
    "    def __init__(self, text=None):\n",
    "        self.text = text\n",
    "        \n",
    "    def get(self):\n",
    "        \"\"\"\n",
    "        Return a Json\n",
    "        \"\"\"\n",
    "        nlp = spacy.load(\"en_core_web_sm\")\n",
    "        doc = nlp(self.text)\n",
    "        text = [ent.text for ent in doc.ents]\n",
    "        entity = [ent.label_ for ent in doc.ents]\n",
    "    \n",
    "        from collections import Counter\n",
    "        import json\n",
    "\n",
    "        data = Counter(zip(entity))\n",
    "        unique_entity = list(data.keys())\n",
    "        unique_entity = [x[0] for x in unique_entity]\n",
    "\n",
    "        d = {}\n",
    "        for val in unique_entity:\n",
    "            d[val] = []\n",
    "\n",
    "        for key,val in dict(zip(text, entity)).items():\n",
    "            if val in unique_entity:\n",
    "                d[val].append(key)\n",
    "        return d"
   ]
  },
  {
   "cell_type": "code",
   "execution_count": 7,
   "metadata": {},
   "outputs": [],
   "source": [
    "try:\n",
    "    import PyPDF2\n",
    "    import requests\n",
    "    import json\n",
    "except Exception:\n",
    "    pass\n",
    "\n",
    "class Resume(object):\n",
    "    def __init__(self, filename=None):\n",
    "        self.filename = filename\n",
    "        \n",
    "    def get(self):\n",
    "        \"\"\"\n",
    "        \n",
    "        \"\"\"\n",
    "        fFileObj = open(self.filename, 'rb')\n",
    "        pdfReader = PyPDF2.PdfFileReader(fFileObj)\n",
    "        pageObj = pdfReader.getPage(0)\n",
    "        print(\"Total Pages : {} \".format(pdfReader.numPages))\n",
    "\n",
    "        resume = pageObj.extractText()\n",
    "        return resume\n",
    "        "
   ]
  },
  {
   "cell_type": "code",
   "execution_count": 8,
   "metadata": {},
   "outputs": [
    {
     "name": "stdout",
     "output_type": "stream",
     "text": [
      "Total Pages : 1 \n"
     ]
    }
   ],
   "source": [
    "resume = Resume(filename=\"resume_17.pdf\")\n",
    "response_news = resume.get()"
   ]
  },
  {
   "cell_type": "code",
   "execution_count": 9,
   "metadata": {},
   "outputs": [
    {
     "name": "stdout",
     "output_type": "stream",
     "text": [
      "{\n",
      "   \"ORG\": [\n",
      "      \"Mobile Application\",\n",
      "      \"Technocracy - the Technical Committee of NIT Raipur\",\n",
      "      \"Atal Tinkering Labs\",\n",
      "      \"Open Food Facts Organisation\",\n",
      "      \"Systers Organisation\",\n",
      "      \"ScoreLab Organisation\",\n",
      "      \"Cross-Platform Mobile Application of Kitisu.com\",\n",
      "      \"Cross-Platform Mobile\",\n",
      "      \"React-Native\",\n",
      "      \"Chattisgarh \\nTourism Board\",\n",
      "      \"dApp\",\n",
      "      \"University Education Vending \\nSystem\",\n",
      "      \"Smart India\",\n",
      "      \"SOS\",\n",
      "      \"National Institute of Technology Raipur\",\n",
      "      \"SQL\",\n",
      "      \"HTML/CSS/SCSS\",\n",
      "      \"PHP\",\n",
      "      \"Shell\",\n",
      "      \"Firebase \\nMachine/\",\n",
      "      \"Django/Flask\",\n",
      "      \"Kreas/Pytorch\"\n",
      "   ],\n",
      "   \"PERSON\": [\n",
      "      \"Technical Head\",\n",
      "      \"Aavartan Android Application\",\n",
      "      \"Redesigned UI\",\n",
      "      \"Kleos Android Application\",\n",
      "      \"App\",\n",
      "      \"Mentor\",\n",
      "      \"Massa\",\n",
      "      \"Lead Developer\",\n",
      "      \"Kitisu.com\",\n",
      "      \"3rd Winner\",\n",
      "      \"Smart Elections\",\n",
      "      \"Elections Based\",\n",
      "      \"iSpecs\",\n",
      "      \"Docker\",\n",
      "      \"Google-Cloud                         \",\n",
      "      \"Key Frameworks\\n                        \",\n",
      "      \"Android\",\n",
      "      \"Nodejs\",\n",
      "      \"Quick-Learner\",\n",
      "      \"Hard-Working\",\n",
      "      \"Deadline-Driven\",\n",
      "      \"Hindi        00000\"\n",
      "   ],\n",
      "   \"DATE\": [\n",
      "      \"previous years\",\n",
      "      \"2018-2019\",\n",
      "      \"2019\",\n",
      "      \"2021\"\n",
      "   ],\n",
      "   \"WORK_OF_ART\": [\n",
      "      \"IIIT Raipur\",\n",
      "      \"Key Programming Languages\\n     , Java          Kotlin           Swift     \\nPython\",\n",
      "      \"Sketch\"\n",
      "   ],\n",
      "   \"GPE\": [\n",
      "      \"Raipur\",\n",
      "      \"Blockchain\",\n",
      "      \"India\",\n",
      "      \"Buypur\"\n",
      "   ],\n",
      "   \"CARDINAL\": [\n",
      "      \"10\"\n",
      "   ],\n",
      "   \"ORDINAL\": [\n",
      "      \"5th\"\n",
      "   ],\n",
      "   \"PRODUCT\": [\n",
      "      \"Javascript\"\n",
      "   ],\n",
      "   \"LAW\": [\n",
      "      \"React/\"\n",
      "   ],\n",
      "   \"LANGUAGE\": [\n",
      "      \"English\"\n",
      "   ]\n",
      "}\n"
     ]
    }
   ],
   "source": [
    "helper = EntityGenerator(text=response_news)\n",
    "response = helper.get()\n",
    "print(json.dumps(response , indent=3))"
   ]
  },
  {
   "cell_type": "code",
   "execution_count": 10,
   "metadata": {},
   "outputs": [
    {
     "name": "stdout",
     "output_type": "stream",
     "text": [
      "Total pages: 1\n"
     ]
    }
   ],
   "source": [
    "text = pdffilereader('resume_17.pdf')[1]"
   ]
  },
  {
   "cell_type": "code",
   "execution_count": 11,
   "metadata": {},
   "outputs": [
    {
     "data": {
      "text/plain": [
       "['SHRITESH JAMULKAR \\nPassionate Developer \\n!\"Work Experience\\n                               ! !Application Developer\\n                   2018-Present\\n TechFlexa\\n                                                        Raipur \\n!Pocket-source Cross-platform Mobile Application.       \\n\" !Made various UI-Improvements and fixed various bugs. \\n!Technical Head\\n                                   2018-Present \\nTechnocracy - the Technical Committee of NIT Raipur                                   \\n !Aavartan Android Application                                 \\n\" !Redesigned UI of previous years Application and \\nvarious bugs fixes. \\n!Kleos Android Application                                      \\n\" !Made the backend and App from scratch. \\n!Mentor                                         \\n2018-Present \\nAtal Tinkering Labs                                            \\nRaipur \\n!Teaching school students internet of things and mentoring \\ntheir projects which won many state level competitions\\n. !Open-Source Contributor  \\n               2018-Present\\n Open Food Facts Organisation      \\n!Open-Food-Facts Android Application                     \\n\"  !Solved various issues of the project. \\nSysters Organisation \\n!Mentorship Android Application                               \\n\" !Solved various issues of the project. \\nScoreLab Organisation \\n!Massa - Mobile Accessible Social Sharing Agent         \\n\" !Solved various issues of the project.\\n !Lead Developer\\n                                     2018-2019\\n Kitisu.com                        \\n                         Raipur \\n!Cross-Platform Mobile Application of Kitisu.com \\n!Made Cross-Platform Mobile app in React-Native.\\n                    Achievements\\n                                   # !Winner: Application Development contest held \\nIIIT Raipur                                             \\n!Made a fully functional application for Chattisgarh \\nTourism Board.                                                       \\n\" !Winner: Codeutsava 3.0 Hackathon in \\nBlockchain track \\n!Made a dApp to stop illegal organ trafficking.            \\n\" !3rd Winner: Hack-a-tron',\n",
       " ' BIT Durg \\n!Made a fully functional University Education Vending \\nSystem.\\n                                                                 \" !Finals: Smart India Hackathon 2019 \\n!Made a tool for detecting Top 10 OWASP vulnerability in \\na website.\\n                                    !5th Position: DotSlash Hackathon',\n",
       " ' SVNIT \\n!Made a dApp for SOS service.\\n                                 \" Education\\n                                         $ !National Institute of Technology Raipur         \\n%    B.Tech Computer Science and Engineering \\n2017-Present (Expected 2021) \\n!Sri Sankara Vidyalaya                                 \\n& Higher Secondary Education',\n",
       " \" CBSE     \\n04/2015-04/2017\\nshritesh.sj@gmail.com\\n ' +91-877049364 \\n(        \\nRaipur\",\n",
       " ' India \\n) shri99.me\\n *  @Shritesh99 \\n! @Shritesh99 \\n\" Personal Projects\\n                     + !Buypur                                  \\n04/2019 \\n!Complete redesigning of current Buypur \\napplication\\n !Smart Elections                      \\n01/2019\\n !Elections Based on Decentralised Ethereum \\nBlockchain Network.                                 \\n\" !iSpecs: Gives you vision          \\n07/2018 \\n!iSpecs is powerful specs for blind powered by \\nandroid things and Tensorflow.                  \\n\" Key Programming Languages\\n     ',\n",
       " ' Java          Kotlin           Swift     \\nPython        R                 SQL \\nJavascript   Typescript    HTML/CSS/SCSS \\nSolidity       PHP              Shell        \\nC/C++        C#               Ruby \\n Key Skills\\n                              - Ethereum Blockchain (Solidity)   Firebase \\nMachine/Deep learning            IOT-Core \\nComputer-Vision/NLP                Unity3D \\nDocker                                    AWS \\nGoogle-Cloud                         Git \\nHardware-Prototyping              Sketch\\n Key Frameworks\\n                        . !Android \\n!React/React-Native (Redux) \\n!Django/Flask \\n!Nodejs \\n!Flutter \\n!TensorFlow \\n!Kreas/Pytorch\\n General Skills\\n                          ! !Quick-Learner \\n!Creative \\n!Innovative \\n!Team-Player \\n!Hard-Working \\n!Deadline-Driven\\n Languages \\n                            / !English     \\n00001 !Hindi        00000       Interests\\n                                  # !UI/UX Wireframes Designing\\n !Vector illustration Designing \\n!Graphic Designing \\n!Video Editing \\n!Gaming']"
      ]
     },
     "execution_count": 11,
     "metadata": {},
     "output_type": "execute_result"
    }
   ],
   "source": [
    "text=text.split(\",\")\n",
    "text"
   ]
  },
  {
   "cell_type": "code",
   "execution_count": 12,
   "metadata": {},
   "outputs": [],
   "source": [
    "search_keywords=['Role','Education',]"
   ]
  },
  {
   "cell_type": "code",
   "execution_count": 13,
   "metadata": {},
   "outputs": [],
   "source": [
    "sentences = text.copy()"
   ]
  },
  {
   "cell_type": "code",
   "execution_count": 14,
   "metadata": {},
   "outputs": [
    {
     "name": "stdout",
     "output_type": "stream",
     "text": [
      "0 key word(s) in sentence: \n",
      "SHRITESH JAMULKAR \n",
      "Passionate Developer \n",
      "!\"Work Experience\n",
      "                               ! !Application Developer\n",
      "                   2018-Present\n",
      " TechFlexa\n",
      "                                                        Raipur \n",
      "!Pocket-source Cross-platform Mobile Application.       \n",
      "\" !Made various UI-Improvements and fixed various bugs. \n",
      "!Technical Head\n",
      "                                   2018-Present \n",
      "Technocracy - the Technical Committee of NIT Raipur                                   \n",
      " !Aavartan Android Application                                 \n",
      "\" !Redesigned UI of previous years Application and \n",
      "various bugs fixes. \n",
      "!Kleos Android Application                                      \n",
      "\" !Made the backend and App from scratch. \n",
      "!Mentor                                         \n",
      "2018-Present \n",
      "Atal Tinkering Labs                                            \n",
      "Raipur \n",
      "!Teaching school students internet of things and mentoring \n",
      "their projects which won many state level competitions\n",
      ". !Open-Source Contributor  \n",
      "               2018-Present\n",
      " Open Food Facts Organisation      \n",
      "!Open-Food-Facts Android Application                     \n",
      "\"  !Solved various issues of the project. \n",
      "Systers Organisation \n",
      "!Mentorship Android Application                               \n",
      "\" !Solved various issues of the project. \n",
      "ScoreLab Organisation \n",
      "!Massa - Mobile Accessible Social Sharing Agent         \n",
      "\" !Solved various issues of the project.\n",
      " !Lead Developer\n",
      "                                     2018-2019\n",
      " Kitisu.com                        \n",
      "                         Raipur \n",
      "!Cross-Platform Mobile Application of Kitisu.com \n",
      "!Made Cross-Platform Mobile app in React-Native.\n",
      "                    Achievements\n",
      "                                   # !Winner: Application Development contest held \n",
      "IIIT Raipur                                             \n",
      "!Made a fully functional application for Chattisgarh \n",
      "Tourism Board.                                                       \n",
      "\" !Winner: Codeutsava 3.0 Hackathon in \n",
      "Blockchain track \n",
      "!Made a dApp to stop illegal organ trafficking.            \n",
      "\" !3rd Winner: Hack-a-tron\n",
      "\n",
      "1 key word(s) in sentence: Education\n",
      " BIT Durg \n",
      "!Made a fully functional University Education Vending \n",
      "System.\n",
      "                                                                 \" !Finals: Smart India Hackathon 2019 \n",
      "!Made a tool for detecting Top 10 OWASP vulnerability in \n",
      "a website.\n",
      "                                    !5th Position: DotSlash Hackathon\n",
      "\n",
      "1 key word(s) in sentence: Education\n",
      " SVNIT \n",
      "!Made a dApp for SOS service.\n",
      "                                 \" Education\n",
      "                                         $ !National Institute of Technology Raipur         \n",
      "%    B.Tech Computer Science and Engineering \n",
      "2017-Present (Expected 2021) \n",
      "!Sri Sankara Vidyalaya                                 \n",
      "& Higher Secondary Education\n",
      "\n",
      "0 key word(s) in sentence: \n",
      " CBSE     \n",
      "04/2015-04/2017\n",
      "shritesh.sj@gmail.com\n",
      " ' +91-877049364 \n",
      "(        \n",
      "Raipur\n",
      "\n",
      "0 key word(s) in sentence: \n",
      " India \n",
      ") shri99.me\n",
      " *  @Shritesh99 \n",
      "! @Shritesh99 \n",
      "\" Personal Projects\n",
      "                     + !Buypur                                  \n",
      "04/2019 \n",
      "!Complete redesigning of current Buypur \n",
      "application\n",
      " !Smart Elections                      \n",
      "01/2019\n",
      " !Elections Based on Decentralised Ethereum \n",
      "Blockchain Network.                                 \n",
      "\" !iSpecs: Gives you vision          \n",
      "07/2018 \n",
      "!iSpecs is powerful specs for blind powered by \n",
      "android things and Tensorflow.                  \n",
      "\" Key Programming Languages\n",
      "     \n",
      "\n",
      "0 key word(s) in sentence: \n",
      " Java          Kotlin           Swift     \n",
      "Python        R                 SQL \n",
      "Javascript   Typescript    HTML/CSS/SCSS \n",
      "Solidity       PHP              Shell        \n",
      "C/C++        C#               Ruby \n",
      " Key Skills\n",
      "                              - Ethereum Blockchain (Solidity)   Firebase \n",
      "Machine/Deep learning            IOT-Core \n",
      "Computer-Vision/NLP                Unity3D \n",
      "Docker                                    AWS \n",
      "Google-Cloud                         Git \n",
      "Hardware-Prototyping              Sketch\n",
      " Key Frameworks\n",
      "                        . !Android \n",
      "!React/React-Native (Redux) \n",
      "!Django/Flask \n",
      "!Nodejs \n",
      "!Flutter \n",
      "!TensorFlow \n",
      "!Kreas/Pytorch\n",
      " General Skills\n",
      "                          ! !Quick-Learner \n",
      "!Creative \n",
      "!Innovative \n",
      "!Team-Player \n",
      "!Hard-Working \n",
      "!Deadline-Driven\n",
      " Languages \n",
      "                            / !English     \n",
      "00001 !Hindi        00000       Interests\n",
      "                                  # !UI/UX Wireframes Designing\n",
      " !Vector illustration Designing \n",
      "!Graphic Designing \n",
      "!Video Editing \n",
      "!Gaming\n",
      "\n"
     ]
    }
   ],
   "source": [
    "for sentence in sentences:\n",
    "    lst = []\n",
    "    for word in search_keywords:\n",
    "        if word in sentence:\n",
    "            lst.append(word)\n",
    "    print('{0} key word(s) in sentence: {1}'.format(len(lst), ', '.join(lst)))\n",
    "    print(sentence + \"\\n\")"
   ]
  },
  {
   "cell_type": "code",
   "execution_count": null,
   "metadata": {},
   "outputs": [],
   "source": []
  },
  {
   "cell_type": "code",
   "execution_count": null,
   "metadata": {},
   "outputs": [],
   "source": []
  },
  {
   "cell_type": "code",
   "execution_count": null,
   "metadata": {},
   "outputs": [],
   "source": []
  },
  {
   "cell_type": "code",
   "execution_count": null,
   "metadata": {},
   "outputs": [],
   "source": []
  },
  {
   "cell_type": "code",
   "execution_count": null,
   "metadata": {},
   "outputs": [],
   "source": []
  },
  {
   "cell_type": "code",
   "execution_count": null,
   "metadata": {},
   "outputs": [],
   "source": []
  },
  {
   "cell_type": "markdown",
   "metadata": {},
   "source": [
    "# https://www.youtube.com/watch?v=bcmEMcEzV9M"
   ]
  }
 ],
 "metadata": {
  "kernelspec": {
   "display_name": "Python 3",
   "language": "python",
   "name": "python3"
  },
  "language_info": {
   "codemirror_mode": {
    "name": "ipython",
    "version": 3
   },
   "file_extension": ".py",
   "mimetype": "text/x-python",
   "name": "python",
   "nbconvert_exporter": "python",
   "pygments_lexer": "ipython3",
   "version": "3.7.7"
  }
 },
 "nbformat": 4,
 "nbformat_minor": 4
}
