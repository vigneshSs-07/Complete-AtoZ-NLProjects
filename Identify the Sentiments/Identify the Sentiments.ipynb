{
 "cells": [
  {
   "cell_type": "code",
   "execution_count": 1,
   "metadata": {},
   "outputs": [],
   "source": [
    "import numpy as np\n",
    "import pandas as pd\n",
    "import matplotlib.pyplot as plt\n",
    "import seaborn as sns\n",
    "%matplotlib inline\n",
    "import warnings\n",
    "warnings.filterwarnings('ignore')\n",
    "import re"
   ]
  },
  {
   "cell_type": "code",
   "execution_count": 2,
   "metadata": {},
   "outputs": [],
   "source": [
    "from nltk.tokenize import word_tokenize,sent_tokenize\n",
    "from nltk.tokenize import RegexpTokenizer\n",
    "import string \n",
    "from nltk.corpus import stopwords \n",
    "stopwords = stopwords.words(\"english\")"
   ]
  },
  {
   "cell_type": "code",
   "execution_count": 3,
   "metadata": {},
   "outputs": [],
   "source": [
    "train_data = pd.read_csv('train_2kmZucJ.csv')\n",
    "test_data = pd.read_csv('test_oJQbWVk.csv')"
   ]
  },
  {
   "cell_type": "code",
   "execution_count": 4,
   "metadata": {},
   "outputs": [
    {
     "data": {
      "text/plain": [
       "((7920, 3), (1953, 2))"
      ]
     },
     "execution_count": 4,
     "metadata": {},
     "output_type": "execute_result"
    }
   ],
   "source": [
    "train_data.shape, test_data.shape"
   ]
  },
  {
   "cell_type": "code",
   "execution_count": 5,
   "metadata": {},
   "outputs": [
    {
     "data": {
      "text/plain": [
       "(9873, 3)"
      ]
     },
     "execution_count": 5,
     "metadata": {},
     "output_type": "execute_result"
    }
   ],
   "source": [
    "combine_data = train_data.append(test_data, sort = False, ignore_index=True)\n",
    "combine_data.shape"
   ]
  },
  {
   "cell_type": "code",
   "execution_count": 6,
   "metadata": {},
   "outputs": [
    {
     "data": {
      "text/html": [
       "<div>\n",
       "<style scoped>\n",
       "    .dataframe tbody tr th:only-of-type {\n",
       "        vertical-align: middle;\n",
       "    }\n",
       "\n",
       "    .dataframe tbody tr th {\n",
       "        vertical-align: top;\n",
       "    }\n",
       "\n",
       "    .dataframe thead th {\n",
       "        text-align: right;\n",
       "    }\n",
       "</style>\n",
       "<table border=\"1\" class=\"dataframe\">\n",
       "  <thead>\n",
       "    <tr style=\"text-align: right;\">\n",
       "      <th></th>\n",
       "      <th>Train Missing Values</th>\n",
       "      <th>DTypes</th>\n",
       "    </tr>\n",
       "  </thead>\n",
       "  <tbody>\n",
       "    <tr>\n",
       "      <th>id</th>\n",
       "      <td>0</td>\n",
       "      <td>int64</td>\n",
       "    </tr>\n",
       "    <tr>\n",
       "      <th>label</th>\n",
       "      <td>1953</td>\n",
       "      <td>float64</td>\n",
       "    </tr>\n",
       "    <tr>\n",
       "      <th>tweet</th>\n",
       "      <td>0</td>\n",
       "      <td>object</td>\n",
       "    </tr>\n",
       "  </tbody>\n",
       "</table>\n",
       "</div>"
      ],
      "text/plain": [
       "       Train Missing Values   DTypes\n",
       "id                        0    int64\n",
       "label                  1953  float64\n",
       "tweet                     0   object"
      ]
     },
     "execution_count": 6,
     "metadata": {},
     "output_type": "execute_result"
    }
   ],
   "source": [
    "#Missing_Values Treatment\n",
    "df1 = combine_data.isnull().sum().to_frame().rename(columns = {0 : 'Train Missing Values'})\n",
    "df2 = combine_data.dtypes.to_frame().rename(columns = {0: 'DTypes'})\n",
    "df = pd.concat([df1, df2], axis =1)\n",
    "df"
   ]
  },
  {
   "cell_type": "code",
   "execution_count": 7,
   "metadata": {},
   "outputs": [
    {
     "data": {
      "text/plain": [
       "<matplotlib.axes._subplots.AxesSubplot at 0x1760b193448>"
      ]
     },
     "execution_count": 7,
     "metadata": {},
     "output_type": "execute_result"
    },
    {
     "data": {
      "image/png": "[encoded data removed]",
      "text/plain": [
       "<Figure size 432x288 with 1 Axes>"
      ]
     },
     "metadata": {
      "needs_background": "light"
     },
     "output_type": "display_data"
    }
   ],
   "source": [
    "combine_data['label'].value_counts(normalize = True)\n",
    "sns.countplot(combine_data['label'])"
   ]
  },
  {
   "cell_type": "code",
   "execution_count": 8,
   "metadata": {},
   "outputs": [],
   "source": [
    "def clean(txt):\n",
    "    txt = re.sub(r'http\\S+', '', txt) # remove URLs\n",
    "    txt = re.sub(r'[%$#@&)(^?]', '', txt) # remove special characters\n",
    "    txt= re.sub(r'[.,:;]', '', txt)\n",
    "    txt = txt.lower()\n",
    "    txt = \"\".join(x for x in txt if x not in string.punctuation)\n",
    "    words = txt.split()\n",
    "    words = [w for w in words if w not in stopwords]\n",
    "    txt = \" \".join(words)\n",
    "    return txt"
   ]
  },
  {
   "cell_type": "code",
   "execution_count": 9,
   "metadata": {},
   "outputs": [
    {
     "data": {
      "text/plain": [
       "[('iphone', 4520),\n",
       " ('apple', 3555),\n",
       " ('samsung', 1728),\n",
       " ('new', 1426),\n",
       " ('phone', 1178),\n",
       " ('sony', 1012),\n",
       " ('…', 887),\n",
       " ('follow', 872),\n",
       " ('ipad', 624),\n",
       " ('love', 536),\n",
       " ('like', 528),\n",
       " ('life', 509),\n",
       " ('android', 484),\n",
       " ('rt', 465),\n",
       " ('instagram', 436),\n",
       " ('day', 431),\n",
       " ('cute', 398),\n",
       " ('photo', 390),\n",
       " ('gain', 387),\n",
       " ('today', 386),\n",
       " ('get', 385),\n",
       " ('im', 373),\n",
       " ('back', 359),\n",
       " ('galaxy', 351),\n",
       " ('got', 348),\n",
       " ('music', 344),\n",
       " ('photography', 344),\n",
       " ('fun', 340),\n",
       " ('case', 332),\n",
       " ('news', 327),\n",
       " ('ios', 314),\n",
       " ('app', 307),\n",
       " ('happy', 302),\n",
       " ('time', 282),\n",
       " ('instagood', 275),\n",
       " ('one', 275),\n",
       " ('lol', 268),\n",
       " ('funny', 267),\n",
       " ('beautiful', 265),\n",
       " ('fashion', 255),\n",
       " ('work', 254),\n",
       " ('smile', 253),\n",
       " ('tech', 249),\n",
       " ('iphonex', 246),\n",
       " ('itunes', 246),\n",
       " ('birthday', 246),\n",
       " ('ipod', 243),\n",
       " ('make', 233),\n",
       " ('cant', 231),\n",
       " ('photooftheday', 229),\n",
       " ('amazing', 227),\n",
       " ('finally', 224),\n",
       " ('good', 223),\n",
       " ('everyone', 222),\n",
       " ('girl', 217),\n",
       " ('apps', 216),\n",
       " ('must', 211),\n",
       " ('dont', 207),\n",
       " ('update', 206),\n",
       " ('3', 205),\n",
       " ('sougofollow', 205),\n",
       " ('free', 201),\n",
       " ('followers', 201),\n",
       " ('selfie', 196),\n",
       " ('would', 191),\n",
       " ('mac', 188),\n",
       " ('rts', 184),\n",
       " ('thanks', 181),\n",
       " ('friends', 180),\n",
       " ('want', 179),\n",
       " ('fail', 177),\n",
       " ('fuck', 177),\n",
       " ('igers', 175),\n",
       " ('2', 174),\n",
       " ('hate', 174),\n",
       " ('home', 170),\n",
       " ('family', 169),\n",
       " ('best', 167),\n",
       " ('fucking', 165),\n",
       " ('baby', 164),\n",
       " ('iphonesia', 161),\n",
       " ('gift', 161),\n",
       " ('camera', 158),\n",
       " ('every', 158),\n",
       " ('cool', 157),\n",
       " ('art', 154),\n",
       " ('go', 153),\n",
       " ('summer', 151),\n",
       " ('iphoneonly', 148),\n",
       " ('still', 145),\n",
       " ('health', 143),\n",
       " ('smartphone', 142),\n",
       " ('ps4', 142),\n",
       " ('christmas', 140),\n",
       " ('picoftheday', 139),\n",
       " ('white', 137),\n",
       " ('much', 134),\n",
       " ('mobile', 133),\n",
       " ('night', 133),\n",
       " ('live', 130)]"
      ]
     },
     "execution_count": 9,
     "metadata": {},
     "output_type": "execute_result"
    }
   ],
   "source": [
    "## Keyword Analysis \n",
    "from collections import Counter\n",
    "complete_text = \" \".join(combine_data[\"tweet\"])\n",
    "clean_text = clean(complete_text)\n",
    "Counter(clean_text.split()).most_common(100)"
   ]
  },
  {
   "cell_type": "code",
   "execution_count": 10,
   "metadata": {},
   "outputs": [],
   "source": [
    "combine_data['clean_tweet'] = combine_data['tweet'].apply(lambda x: clean(x))"
   ]
  },
  {
   "cell_type": "code",
   "execution_count": 11,
   "metadata": {},
   "outputs": [
    {
     "data": {
      "text/html": [
       "<div>\n",
       "<style scoped>\n",
       "    .dataframe tbody tr th:only-of-type {\n",
       "        vertical-align: middle;\n",
       "    }\n",
       "\n",
       "    .dataframe tbody tr th {\n",
       "        vertical-align: top;\n",
       "    }\n",
       "\n",
       "    .dataframe thead th {\n",
       "        text-align: right;\n",
       "    }\n",
       "</style>\n",
       "<table border=\"1\" class=\"dataframe\">\n",
       "  <thead>\n",
       "    <tr style=\"text-align: right;\">\n",
       "      <th></th>\n",
       "      <th>id</th>\n",
       "      <th>label</th>\n",
       "      <th>tweet</th>\n",
       "      <th>clean_tweet</th>\n",
       "    </tr>\n",
       "  </thead>\n",
       "  <tbody>\n",
       "    <tr>\n",
       "      <th>0</th>\n",
       "      <td>1</td>\n",
       "      <td>0.0</td>\n",
       "      <td>#fingerprint #Pregnancy Test https://goo.gl/h1...</td>\n",
       "      <td>fingerprint pregnancy test android apps beauti...</td>\n",
       "    </tr>\n",
       "    <tr>\n",
       "      <th>1</th>\n",
       "      <td>2</td>\n",
       "      <td>0.0</td>\n",
       "      <td>Finally a transparant silicon case ^^ Thanks t...</td>\n",
       "      <td>finally transparant silicon case thanks uncle ...</td>\n",
       "    </tr>\n",
       "    <tr>\n",
       "      <th>2</th>\n",
       "      <td>3</td>\n",
       "      <td>0.0</td>\n",
       "      <td>We love this! Would you go? #talk #makememorie...</td>\n",
       "      <td>love would go talk makememories unplug relax i...</td>\n",
       "    </tr>\n",
       "    <tr>\n",
       "      <th>3</th>\n",
       "      <td>4</td>\n",
       "      <td>0.0</td>\n",
       "      <td>I'm wired I know I'm George I was made that wa...</td>\n",
       "      <td>im wired know im george made way iphone cute d...</td>\n",
       "    </tr>\n",
       "    <tr>\n",
       "      <th>4</th>\n",
       "      <td>5</td>\n",
       "      <td>1.0</td>\n",
       "      <td>What amazing service! Apple won't even talk to...</td>\n",
       "      <td>amazing service apple wont even talk question ...</td>\n",
       "    </tr>\n",
       "  </tbody>\n",
       "</table>\n",
       "</div>"
      ],
      "text/plain": [
       "   id  label                                              tweet  \\\n",
       "0   1    0.0  #fingerprint #Pregnancy Test https://goo.gl/h1...   \n",
       "1   2    0.0  Finally a transparant silicon case ^^ Thanks t...   \n",
       "2   3    0.0  We love this! Would you go? #talk #makememorie...   \n",
       "3   4    0.0  I'm wired I know I'm George I was made that wa...   \n",
       "4   5    1.0  What amazing service! Apple won't even talk to...   \n",
       "\n",
       "                                         clean_tweet  \n",
       "0  fingerprint pregnancy test android apps beauti...  \n",
       "1  finally transparant silicon case thanks uncle ...  \n",
       "2  love would go talk makememories unplug relax i...  \n",
       "3  im wired know im george made way iphone cute d...  \n",
       "4  amazing service apple wont even talk question ...  "
      ]
     },
     "execution_count": 11,
     "metadata": {},
     "output_type": "execute_result"
    }
   ],
   "source": [
    "combine_data.head()"
   ]
  },
  {
   "cell_type": "code",
   "execution_count": 12,
   "metadata": {},
   "outputs": [],
   "source": [
    "def tokenize_words_Sents(Sent):\n",
    "    return word_tokenize(Sent),sent_tokenize(Sent)\n",
    " \n",
    "def RegExpTokenizer(Sent):\n",
    "    tokenizer = RegexpTokenizer(r'\\w+')\n",
    "    return tokenizer.tokenize(Sent)"
   ]
  },
  {
   "cell_type": "code",
   "execution_count": 13,
   "metadata": {},
   "outputs": [
    {
     "name": "stdout",
     "output_type": "stream",
     "text": [
      "Words  ['Finally', 'a', 'transparant', 'silicon', 'case', '^^', 'Thanks', 'to', 'my', 'uncle', ':', ')', '#', 'yay', '#', 'Sony', '#', 'Xperia', '#', 'S', '#', 'sonyexperias…', 'http', ':', '//instagram.com/p/YGEt5JC6JM/']\n",
      "Sents  ['Finally a transparant silicon case ^^ Thanks to my uncle :) #yay #Sony #Xperia #S #sonyexperias… http://instagram.com/p/YGEt5JC6JM/']\n"
     ]
    }
   ],
   "source": [
    "Words,Sents = tokenize_words_Sents(combine_data.tweet[1])\n",
    "print(\"Words \",Words)\n",
    "print(\"Sents \",Sents)"
   ]
  },
  {
   "cell_type": "code",
   "execution_count": 14,
   "metadata": {},
   "outputs": [
    {
     "name": "stdout",
     "output_type": "stream",
     "text": [
      "['Finally', 'a', 'transparant', 'silicon', 'case', 'Thanks', 'to', 'my', 'uncle', 'yay', 'Sony', 'Xperia', 'S', 'sonyexperias', 'http', 'instagram', 'com', 'p', 'YGEt5JC6JM']\n"
     ]
    }
   ],
   "source": [
    "print(RegExpTokenizer(train_data.tweet[1]))"
   ]
  },
  {
   "cell_type": "code",
   "execution_count": 15,
   "metadata": {},
   "outputs": [],
   "source": [
    "import string\n",
    "\n",
    "combine_data['Word Count'] = [len(text.split()) for text in combine_data['tweet']]\n",
    "\n",
    "combine_data['Uppercase Char Count'] = [sum(char.isupper() for char in review) \\\n",
    "                              for review in combine_data['tweet']]                           \n",
    "\n",
    "combine_data['Special Char Count'] = [sum(char in string.punctuation for char in review) \\\n",
    "                            for review in combine_data['tweet']] "
   ]
  },
  {
   "cell_type": "code",
   "execution_count": 16,
   "metadata": {},
   "outputs": [
    {
     "data": {
      "text/html": [
       "<div>\n",
       "<style scoped>\n",
       "    .dataframe tbody tr th:only-of-type {\n",
       "        vertical-align: middle;\n",
       "    }\n",
       "\n",
       "    .dataframe tbody tr th {\n",
       "        vertical-align: top;\n",
       "    }\n",
       "\n",
       "    .dataframe thead th {\n",
       "        text-align: right;\n",
       "    }\n",
       "</style>\n",
       "<table border=\"1\" class=\"dataframe\">\n",
       "  <thead>\n",
       "    <tr style=\"text-align: right;\">\n",
       "      <th></th>\n",
       "      <th>id</th>\n",
       "      <th>label</th>\n",
       "      <th>tweet</th>\n",
       "      <th>clean_tweet</th>\n",
       "      <th>Word Count</th>\n",
       "      <th>Uppercase Char Count</th>\n",
       "      <th>Special Char Count</th>\n",
       "    </tr>\n",
       "  </thead>\n",
       "  <tbody>\n",
       "    <tr>\n",
       "      <th>0</th>\n",
       "      <td>1</td>\n",
       "      <td>0.0</td>\n",
       "      <td>#fingerprint #Pregnancy Test https://goo.gl/h1...</td>\n",
       "      <td>fingerprint pregnancy test android apps beauti...</td>\n",
       "      <td>13</td>\n",
       "      <td>5</td>\n",
       "      <td>16</td>\n",
       "    </tr>\n",
       "    <tr>\n",
       "      <th>1</th>\n",
       "      <td>2</td>\n",
       "      <td>0.0</td>\n",
       "      <td>Finally a transparant silicon case ^^ Thanks t...</td>\n",
       "      <td>finally transparant silicon case thanks uncle ...</td>\n",
       "      <td>17</td>\n",
       "      <td>12</td>\n",
       "      <td>16</td>\n",
       "    </tr>\n",
       "    <tr>\n",
       "      <th>2</th>\n",
       "      <td>3</td>\n",
       "      <td>0.0</td>\n",
       "      <td>We love this! Would you go? #talk #makememorie...</td>\n",
       "      <td>love would go talk makememories unplug relax i...</td>\n",
       "      <td>15</td>\n",
       "      <td>6</td>\n",
       "      <td>18</td>\n",
       "    </tr>\n",
       "    <tr>\n",
       "      <th>3</th>\n",
       "      <td>4</td>\n",
       "      <td>0.0</td>\n",
       "      <td>I'm wired I know I'm George I was made that wa...</td>\n",
       "      <td>im wired know im george made way iphone cute d...</td>\n",
       "      <td>17</td>\n",
       "      <td>7</td>\n",
       "      <td>17</td>\n",
       "    </tr>\n",
       "    <tr>\n",
       "      <th>4</th>\n",
       "      <td>5</td>\n",
       "      <td>1.0</td>\n",
       "      <td>What amazing service! Apple won't even talk to...</td>\n",
       "      <td>amazing service apple wont even talk question ...</td>\n",
       "      <td>23</td>\n",
       "      <td>4</td>\n",
       "      <td>5</td>\n",
       "    </tr>\n",
       "  </tbody>\n",
       "</table>\n",
       "</div>"
      ],
      "text/plain": [
       "   id  label                                              tweet  \\\n",
       "0   1    0.0  #fingerprint #Pregnancy Test https://goo.gl/h1...   \n",
       "1   2    0.0  Finally a transparant silicon case ^^ Thanks t...   \n",
       "2   3    0.0  We love this! Would you go? #talk #makememorie...   \n",
       "3   4    0.0  I'm wired I know I'm George I was made that wa...   \n",
       "4   5    1.0  What amazing service! Apple won't even talk to...   \n",
       "\n",
       "                                         clean_tweet  Word Count  \\\n",
       "0  fingerprint pregnancy test android apps beauti...          13   \n",
       "1  finally transparant silicon case thanks uncle ...          17   \n",
       "2  love would go talk makememories unplug relax i...          15   \n",
       "3  im wired know im george made way iphone cute d...          17   \n",
       "4  amazing service apple wont even talk question ...          23   \n",
       "\n",
       "   Uppercase Char Count  Special Char Count  \n",
       "0                     5                  16  \n",
       "1                    12                  16  \n",
       "2                     6                  18  \n",
       "3                     7                  17  \n",
       "4                     4                   5  "
      ]
     },
     "execution_count": 16,
     "metadata": {},
     "output_type": "execute_result"
    }
   ],
   "source": [
    "combine_data.head()"
   ]
  },
  {
   "cell_type": "code",
   "execution_count": 18,
   "metadata": {},
   "outputs": [],
   "source": [
    "from sklearn.feature_extraction.text import TfidfVectorizer\n",
    "\n",
    "vectorizer = TfidfVectorizer()\n",
    "bow = vectorizer.fit_transform(combine_data['clean_tweet'])\n",
    "labels = combine_data['label']"
   ]
  },
  {
   "cell_type": "code",
   "execution_count": 19,
   "metadata": {},
   "outputs": [
    {
     "data": {
      "text/plain": [
       "21366"
      ]
     },
     "execution_count": 19,
     "metadata": {},
     "output_type": "execute_result"
    }
   ],
   "source": [
    "len(vectorizer.get_feature_names())"
   ]
  },
  {
   "cell_type": "code",
   "execution_count": 20,
   "metadata": {},
   "outputs": [
    {
     "data": {
      "text/plain": [
       "1052"
      ]
     },
     "execution_count": 20,
     "metadata": {},
     "output_type": "execute_result"
    }
   ],
   "source": [
    "vectorizer = TfidfVectorizer(min_df=15)\n",
    "bow = vectorizer.fit_transform(combine_data['clean_tweet'])\n",
    "len(vectorizer.get_feature_names())"
   ]
  },
  {
   "cell_type": "code",
   "execution_count": 21,
   "metadata": {},
   "outputs": [
    {
     "data": {
      "text/plain": [
       "<9873x1052 sparse matrix of type '<class 'numpy.float64'>'\n",
       "\twith 70888 stored elements in Compressed Sparse Row format>"
      ]
     },
     "execution_count": 21,
     "metadata": {},
     "output_type": "execute_result"
    }
   ],
   "source": [
    "vectorizer = TfidfVectorizer(min_df=15)\n",
    "bow = vectorizer.fit_transform(combine_data['clean_tweet'])\n",
    "bow"
   ]
  },
  {
   "cell_type": "code",
   "execution_count": 29,
   "metadata": {},
   "outputs": [],
   "source": [
    "from sklearn.model_selection import train_test_split\n",
    "from sklearn.metrics import f1_score"
   ]
  },
  {
   "cell_type": "code",
   "execution_count": 24,
   "metadata": {},
   "outputs": [],
   "source": [
    "train_bow = bow[:7920,:]\n",
    "test_bow = bow[7920:,:]\n",
    "\n",
    "# splitting data into training and validation set\n",
    "X_train, X_test, y_train, y_test = train_test_split(train_bow, train_data['label'], random_state=42, test_size=0.3)"
   ]
  },
  {
   "cell_type": "code",
   "execution_count": 25,
   "metadata": {},
   "outputs": [],
   "source": [
    "from sklearn.ensemble import RandomForestClassifier as rfc"
   ]
  },
  {
   "cell_type": "code",
   "execution_count": 26,
   "metadata": {},
   "outputs": [
    {
     "data": {
      "text/plain": [
       "0.8585858585858586"
      ]
     },
     "execution_count": 26,
     "metadata": {},
     "output_type": "execute_result"
    }
   ],
   "source": [
    "classifier = rfc()\n",
    "classifier.fit(X_train,y_train)\n",
    "classifier.score(X_test,y_test)"
   ]
  },
  {
   "cell_type": "code",
   "execution_count": 30,
   "metadata": {},
   "outputs": [],
   "source": [
    "prediction = classifier.predict(X_test)"
   ]
  },
  {
   "cell_type": "code",
   "execution_count": 31,
   "metadata": {},
   "outputs": [
    {
     "data": {
      "text/plain": [
       "0.7062937062937064"
      ]
     },
     "execution_count": 31,
     "metadata": {},
     "output_type": "execute_result"
    }
   ],
   "source": [
    "f1_score(y_test, prediction)"
   ]
  },
  {
   "cell_type": "code",
   "execution_count": 32,
   "metadata": {},
   "outputs": [],
   "source": [
    "from xgboost import XGBClassifier"
   ]
  },
  {
   "cell_type": "code",
   "execution_count": 33,
   "metadata": {},
   "outputs": [],
   "source": [
    "xgbmodel = XGBClassifier()\n",
    "xgbmodel.fit(X_train,y_train)\n",
    "xgbmodel.score(X_test,y_test)\n",
    "prediction = xgbmodel.predict(X_test)"
   ]
  },
  {
   "cell_type": "code",
   "execution_count": 34,
   "metadata": {},
   "outputs": [
    {
     "data": {
      "text/plain": [
       "0.7329931972789114"
      ]
     },
     "execution_count": 34,
     "metadata": {},
     "output_type": "execute_result"
    }
   ],
   "source": [
    "f1_score(y_test, prediction)"
   ]
  },
  {
   "cell_type": "code",
   "execution_count": 39,
   "metadata": {},
   "outputs": [],
   "source": [
    "test_pred = xgbmodel.predict(test_bow)\n",
    "test_data['label'] = test_pred\n",
    "submission = test_data[['id','label']]\n",
    "submission.to_csv('sub_xgb_bow.csv', index=False)"
   ]
  },
  {
   "cell_type": "code",
   "execution_count": null,
   "metadata": {},
   "outputs": [],
   "source": []
  },
  {
   "cell_type": "code",
   "execution_count": null,
   "metadata": {},
   "outputs": [],
   "source": []
  },
  {
   "cell_type": "code",
   "execution_count": null,
   "metadata": {},
   "outputs": [],
   "source": []
  },
  {
   "cell_type": "code",
   "execution_count": null,
   "metadata": {},
   "outputs": [],
   "source": []
  },
  {
   "cell_type": "code",
   "execution_count": null,
   "metadata": {},
   "outputs": [],
   "source": []
  },
  {
   "cell_type": "code",
   "execution_count": null,
   "metadata": {},
   "outputs": [],
   "source": []
  },
  {
   "cell_type": "code",
   "execution_count": null,
   "metadata": {},
   "outputs": [],
   "source": []
  },
  {
   "cell_type": "code",
   "execution_count": null,
   "metadata": {},
   "outputs": [],
   "source": []
  },
  {
   "cell_type": "code",
   "execution_count": null,
   "metadata": {},
   "outputs": [],
   "source": []
  },
  {
   "cell_type": "code",
   "execution_count": null,
   "metadata": {},
   "outputs": [],
   "source": []
  },
  {
   "cell_type": "code",
   "execution_count": null,
   "metadata": {},
   "outputs": [],
   "source": []
  },
  {
   "cell_type": "code",
   "execution_count": null,
   "metadata": {},
   "outputs": [],
   "source": []
  }
 ],
 "metadata": {
  "kernelspec": {
   "display_name": "Python 3",
   "language": "python",
   "name": "python3"
  },
  "language_info": {
   "codemirror_mode": {
    "name": "ipython",
    "version": 3
   },
   "file_extension": ".py",
   "mimetype": "text/x-python",
   "name": "python",
   "nbconvert_exporter": "python",
   "pygments_lexer": "ipython3",
   "version": "3.7.7"
  }
 },
 "nbformat": 4,
 "nbformat_minor": 4
}
